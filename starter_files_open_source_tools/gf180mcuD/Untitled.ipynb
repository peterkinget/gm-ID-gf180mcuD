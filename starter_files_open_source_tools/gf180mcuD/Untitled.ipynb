{
 "cells": [
  {
   "cell_type": "code",
   "execution_count": 1,
   "id": "0d0157f2-2284-49e9-b8a9-808d53a51bf2",
   "metadata": {},
   "outputs": [],
   "source": [
    "import pygmid"
   ]
  },
  {
   "cell_type": "code",
   "execution_count": 6,
   "id": "b0245a91-fbe5-44e8-b25b-260d177c6431",
   "metadata": {},
   "outputs": [
    {
     "name": "stdout",
     "output_type": "stream",
     "text": [
      "Help on function look_up in module pygmid.Lookup:\n",
      "\n",
      "look_up(self, out, **kwargs)\n",
      "    Entry method for lookup functionality\n",
      "\n",
      "    Sanitises input. Extracts the variable key as first key value pair\n",
      "    in kwargs dict. Both the outkey and varkey are converted to lists.\n",
      "    String is split based on _ character.\n",
      "\n",
      "    Mode is determined and appropriate lookup function is called from\n",
      "    modefuncmap dict\n",
      "\n",
      "    Args:\n",
      "        out: desired variable to be interpolated 'GM', 'ID' etc\n",
      "        kwargs: keyword arguments (dict). First key-value pair is\n",
      "                variable argument\n",
      "\n",
      "    Returns:\n",
      "        y: interpolated data, [] if erroneous mode selected\n",
      "\n"
     ]
    }
   ],
   "source": [
    "help(pygmid.Lookup.look_up)"
   ]
  },
  {
   "cell_type": "code",
   "execution_count": null,
   "id": "f745206a-c43c-4540-8e6e-73ebe58e8852",
   "metadata": {},
   "outputs": [],
   "source": []
  }
 ],
 "metadata": {
  "kernelspec": {
   "display_name": "Venv Jupyter",
   "language": "python",
   "name": "venv-jupter"
  },
  "language_info": {
   "codemirror_mode": {
    "name": "ipython",
    "version": 3
   },
   "file_extension": ".py",
   "mimetype": "text/x-python",
   "name": "python",
   "nbconvert_exporter": "python",
   "pygments_lexer": "ipython3",
   "version": "3.12.10"
  }
 },
 "nbformat": 4,
 "nbformat_minor": 5
}
